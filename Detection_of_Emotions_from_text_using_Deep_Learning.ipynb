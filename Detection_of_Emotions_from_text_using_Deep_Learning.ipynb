{
  "nbformat": 4,
  "nbformat_minor": 0,
  "metadata": {
    "colab": {
      "name": "Detection of Emotions from text using Deep Learning.ipynb",
      "provenance": [],
      "authorship_tag": "ABX9TyPwDquAkvLAr99hmepPfW4Q",
      "include_colab_link": true
    },
    "kernelspec": {
      "name": "python3",
      "display_name": "Python 3"
    }
  },
  "cells": [
    {
      "cell_type": "markdown",
      "metadata": {
        "id": "view-in-github",
        "colab_type": "text"
      },
      "source": [
        "<a href=\"https://colab.research.google.com/github/MiriyalaDharaniSaiKumar/Internship-Project/blob/master/Detection_of_Emotions_from_text_using_Deep_Learning.ipynb\" target=\"_parent\"><img src=\"https://colab.research.google.com/assets/colab-badge.svg\" alt=\"Open In Colab\"/></a>"
      ]
    },
    {
      "cell_type": "markdown",
      "metadata": {
        "id": "8c4sgF8YuFx8",
        "colab_type": "text"
      },
      "source": [
        "**Project Title**: Automate detection of Emotions from text using Deep Learning <br>\n",
        "**Author**: Dharani Sai Kumar Miriyala<br>\n",
        "**Dataset**:https://drive.google.com/file/d/1U5-bOc-MOoGAdQbNDlaOspGCPFaPhKoD/view?usp=sharing\n",
        "<br><br>\n"
      ]
    },
    {
      "cell_type": "markdown",
      "metadata": {
        "id": "MiE_nHsiv7WD",
        "colab_type": "text"
      },
      "source": [
        "**Importing Libraries**"
      ]
    },
    {
      "cell_type": "code",
      "metadata": {
        "id": "Mq3LNG2Wsey6",
        "colab_type": "code",
        "colab": {}
      },
      "source": [
        "import numpy as np\n",
        "import tensorflow as tf\n",
        "import pandas as pd"
      ],
      "execution_count": null,
      "outputs": []
    },
    {
      "cell_type": "markdown",
      "metadata": {
        "id": "bKHm8ekqwGRE",
        "colab_type": "text"
      },
      "source": [
        "**Data Preprocessing**"
      ]
    },
    {
      "cell_type": "code",
      "metadata": {
        "id": "xFZmYxfWvTES",
        "colab_type": "code",
        "colab": {
          "base_uri": "https://localhost:8080/",
          "height": 52
        },
        "outputId": "67672953-00b9-477e-d3bc-5085ed39132e"
      },
      "source": [
        "dataset = pd.read_csv('emotion.csv')\n",
        "y=dataset.iloc[:,1].values\n",
        "\n",
        "from sklearn.preprocessing import LabelEncoder\n",
        "labelencoder_y = LabelEncoder()\n",
        "y = labelencoder_y.fit_transform(y)\n",
        "\n",
        "import re\n",
        "import nltk\n",
        "nltk.download('stopwords')\n",
        "from nltk.corpus import stopwords\n",
        "from nltk.stem.porter import PorterStemmer\n",
        "corpus = []\n",
        "for i in range(0, 16614):\n",
        "    content = re.sub('[^a-zA-Z]', ' ', dataset['content'][i])\n",
        "    content = content.lower()\n",
        "    content = content.split()\n",
        "    ps = PorterStemmer()\n",
        "    content = [ps.stem(word) for word in content if not word in set(stopwords.words('english'))]\n",
        "    content = ' '.join(content)\n",
        "    corpus.append(content)"
      ],
      "execution_count": null,
      "outputs": [
        {
          "output_type": "stream",
          "text": [
            "[nltk_data] Downloading package stopwords to /root/nltk_data...\n",
            "[nltk_data]   Package stopwords is already up-to-date!\n"
          ],
          "name": "stdout"
        }
      ]
    },
    {
      "cell_type": "markdown",
      "metadata": {
        "id": "MqCatWxRwK4U",
        "colab_type": "text"
      },
      "source": [
        "**Creating Bag of words Model**"
      ]
    },
    {
      "cell_type": "code",
      "metadata": {
        "id": "-B4PyYFyvt5d",
        "colab_type": "code",
        "colab": {}
      },
      "source": [
        "from sklearn.feature_extraction.text import CountVectorizer\n",
        "cv = CountVectorizer(max_features = 15000)\n",
        "X = cv.fit_transform(corpus).toarray()\n",
        "\n",
        "from sklearn.model_selection import train_test_split\n",
        "X_train, X_test, y_train, y_test = train_test_split(X,y, test_size = 0.20, random_state = 0)"
      ],
      "execution_count": null,
      "outputs": []
    },
    {
      "cell_type": "markdown",
      "metadata": {
        "id": "jidE2m3iwQLl",
        "colab_type": "text"
      },
      "source": [
        "**Building Artificial Neural Network**"
      ]
    },
    {
      "cell_type": "code",
      "metadata": {
        "id": "jbrWvLtCvy3m",
        "colab_type": "code",
        "colab": {
          "base_uri": "https://localhost:8080/",
          "height": 1000
        },
        "outputId": "b56c5fdf-7dae-48b7-fa2d-f5348a0ae78f"
      },
      "source": [
        "ann=tf.keras.models.Sequential()\n",
        "ann.add(tf.keras.layers.Dense(units=6,activation='relu'))\n",
        "ann.add(tf.keras.layers.Dense(units=6,activation='relu'))\n",
        "ann.add(tf.keras.layers.Dense(units=5,activation='sigmoid'))\n",
        "ann.compile(loss=\"sparse_categorical_crossentropy\", optimizer=\"adam\", metrics=[\"accuracy\"])\n",
        "ann.fit(X_train,y_train,batch_size=32,epochs=30)"
      ],
      "execution_count": null,
      "outputs": [
        {
          "output_type": "stream",
          "text": [
            "Epoch 1/30\n",
            "416/416 [==============================] - 2s 6ms/step - loss: 1.4309 - accuracy: 0.3662\n",
            "Epoch 2/30\n",
            "416/416 [==============================] - 2s 6ms/step - loss: 1.1787 - accuracy: 0.5215\n",
            "Epoch 3/30\n",
            "416/416 [==============================] - 2s 6ms/step - loss: 0.9794 - accuracy: 0.6323\n",
            "Epoch 4/30\n",
            "416/416 [==============================] - 2s 6ms/step - loss: 0.8082 - accuracy: 0.7111\n",
            "Epoch 5/30\n",
            "416/416 [==============================] - 2s 6ms/step - loss: 0.6687 - accuracy: 0.7777\n",
            "Epoch 6/30\n",
            "416/416 [==============================] - 2s 6ms/step - loss: 0.5541 - accuracy: 0.8219\n",
            "Epoch 7/30\n",
            "416/416 [==============================] - 2s 6ms/step - loss: 0.4653 - accuracy: 0.8534\n",
            "Epoch 8/30\n",
            "416/416 [==============================] - 2s 6ms/step - loss: 0.3990 - accuracy: 0.8752\n",
            "Epoch 9/30\n",
            "416/416 [==============================] - 2s 6ms/step - loss: 0.3486 - accuracy: 0.8927\n",
            "Epoch 10/30\n",
            "416/416 [==============================] - 2s 6ms/step - loss: 0.3099 - accuracy: 0.9027\n",
            "Epoch 11/30\n",
            "416/416 [==============================] - 2s 6ms/step - loss: 0.2784 - accuracy: 0.9128\n",
            "Epoch 12/30\n",
            "416/416 [==============================] - 2s 5ms/step - loss: 0.2536 - accuracy: 0.9189\n",
            "Epoch 13/30\n",
            "416/416 [==============================] - 2s 6ms/step - loss: 0.2333 - accuracy: 0.9253\n",
            "Epoch 14/30\n",
            "416/416 [==============================] - 2s 6ms/step - loss: 0.2165 - accuracy: 0.9313\n",
            "Epoch 15/30\n",
            "416/416 [==============================] - 2s 6ms/step - loss: 0.2022 - accuracy: 0.9344\n",
            "Epoch 16/30\n",
            "416/416 [==============================] - 2s 6ms/step - loss: 0.1892 - accuracy: 0.9397\n",
            "Epoch 17/30\n",
            "416/416 [==============================] - 2s 6ms/step - loss: 0.1786 - accuracy: 0.9409\n",
            "Epoch 18/30\n",
            "416/416 [==============================] - 3s 6ms/step - loss: 0.1707 - accuracy: 0.9452\n",
            "Epoch 19/30\n",
            "416/416 [==============================] - 2s 6ms/step - loss: 0.1613 - accuracy: 0.9482\n",
            "Epoch 20/30\n",
            "416/416 [==============================] - 2s 6ms/step - loss: 0.1554 - accuracy: 0.9490\n",
            "Epoch 21/30\n",
            "416/416 [==============================] - 2s 6ms/step - loss: 0.1483 - accuracy: 0.9500\n",
            "Epoch 22/30\n",
            "416/416 [==============================] - 2s 6ms/step - loss: 0.1429 - accuracy: 0.9518\n",
            "Epoch 23/30\n",
            "416/416 [==============================] - 2s 6ms/step - loss: 0.1380 - accuracy: 0.9532\n",
            "Epoch 24/30\n",
            "416/416 [==============================] - 2s 6ms/step - loss: 0.1316 - accuracy: 0.9541\n",
            "Epoch 25/30\n",
            "416/416 [==============================] - 2s 6ms/step - loss: 0.1287 - accuracy: 0.9555\n",
            "Epoch 26/30\n",
            "416/416 [==============================] - 2s 6ms/step - loss: 0.1254 - accuracy: 0.9557\n",
            "Epoch 27/30\n",
            "416/416 [==============================] - 2s 6ms/step - loss: 0.1216 - accuracy: 0.9574\n",
            "Epoch 28/30\n",
            "416/416 [==============================] - 2s 6ms/step - loss: 0.1180 - accuracy: 0.9594\n",
            "Epoch 29/30\n",
            "416/416 [==============================] - 3s 6ms/step - loss: 0.1152 - accuracy: 0.9600\n",
            "Epoch 30/30\n",
            "416/416 [==============================] - 2s 6ms/step - loss: 0.1126 - accuracy: 0.9597\n"
          ],
          "name": "stdout"
        },
        {
          "output_type": "execute_result",
          "data": {
            "text/plain": [
              "<tensorflow.python.keras.callbacks.History at 0x7fd7144a7e48>"
            ]
          },
          "metadata": {
            "tags": []
          },
          "execution_count": 4
        }
      ]
    },
    {
      "cell_type": "markdown",
      "metadata": {
        "id": "tWBaF0jV32Y2",
        "colab_type": "text"
      },
      "source": [
        "**Predicting on New Data**"
      ]
    },
    {
      "cell_type": "code",
      "metadata": {
        "id": "SVfXA-gQqYa5",
        "colab_type": "code",
        "colab": {}
      },
      "source": [
        "def predict_emotion(test_input):\n",
        "  \n",
        " c=test_input\n",
        " content = re.sub('[^a-zA-Z]', ' ', c)\n",
        " content = content.lower()\n",
        " content = content.split()\n",
        " ps = PorterStemmer()\n",
        " content = [ps.stem(word) for word in content if not word in set(stopwords.words('english'))]\n",
        " content = ' '.join(content)\n",
        " corpus.append(content)\n",
        " cv = CountVectorizer(max_features = 15000)\n",
        " X=cv.fit_transform(corpus).toarray()\n",
        " a=X[-1].reshape(-1,15000)\n",
        " g=(ann.predict((a))[0])\n",
        " v=g.tolist()\n",
        " b=max(v)\n",
        " c=v.index(b)\n",
        " b=[c]\n",
        "\n",
        " return labelencoder_y.inverse_transform(b)[0]"
      ],
      "execution_count": null,
      "outputs": []
    },
    {
      "cell_type": "code",
      "metadata": {
        "id": "6LK3Rhv_qfjk",
        "colab_type": "code",
        "colab": {
          "base_uri": "https://localhost:8080/",
          "height": 35
        },
        "outputId": "ca135a51-3634-4bda-ef21-947956c38f4b"
      },
      "source": [
        "predict_emotion(\"I will stay with you forever, take care..!\")"
      ],
      "execution_count": null,
      "outputs": [
        {
          "output_type": "execute_result",
          "data": {
            "text/plain": [
              "'love'"
            ]
          },
          "metadata": {
            "tags": []
          },
          "execution_count": 6
        }
      ]
    },
    {
      "cell_type": "code",
      "metadata": {
        "id": "x-LF0EfP54yO",
        "colab_type": "code",
        "colab": {
          "base_uri": "https://localhost:8080/",
          "height": 35
        },
        "outputId": "a3a9d60f-295b-482c-a78f-08775a173a62"
      },
      "source": [
        "predict_emotion(\"I'm going to miss her, too\")"
      ],
      "execution_count": null,
      "outputs": [
        {
          "output_type": "execute_result",
          "data": {
            "text/plain": [
              "'sadness'"
            ]
          },
          "metadata": {
            "tags": []
          },
          "execution_count": 7
        }
      ]
    },
    {
      "cell_type": "code",
      "metadata": {
        "id": "HukvEAT76sNh",
        "colab_type": "code",
        "colab": {
          "base_uri": "https://localhost:8080/",
          "height": 35
        },
        "outputId": "e8e84b52-59a8-490a-9126-2deec8e3cdea"
      },
      "source": [
        "predict_emotion('oh! Wow..! what a astonishing performance')"
      ],
      "execution_count": null,
      "outputs": [
        {
          "output_type": "execute_result",
          "data": {
            "text/plain": [
              "'surprise'"
            ]
          },
          "metadata": {
            "tags": []
          },
          "execution_count": 9
        }
      ]
    },
    {
      "cell_type": "code",
      "metadata": {
        "id": "zbkBbZYx7ZGI",
        "colab_type": "code",
        "colab": {
          "base_uri": "https://localhost:8080/",
          "height": 35
        },
        "outputId": "83f52756-4b60-43af-d33d-4c7bbdb70471"
      },
      "source": [
        "predict_emotion('hahaha.. what a cheerful person')"
      ],
      "execution_count": null,
      "outputs": [
        {
          "output_type": "execute_result",
          "data": {
            "text/plain": [
              "'happiness'"
            ]
          },
          "metadata": {
            "tags": []
          },
          "execution_count": 10
        }
      ]
    },
    {
      "cell_type": "code",
      "metadata": {
        "id": "tXr_NrYj73Oz",
        "colab_type": "code",
        "colab": {
          "base_uri": "https://localhost:8080/",
          "height": 35
        },
        "outputId": "6ba03470-f1ff-4b5b-b8b8-d3a681c7d484"
      },
      "source": [
        "predict_emotion('I am irritated by his acts')"
      ],
      "execution_count": null,
      "outputs": [
        {
          "output_type": "execute_result",
          "data": {
            "text/plain": [
              "'anger'"
            ]
          },
          "metadata": {
            "tags": []
          },
          "execution_count": 11
        }
      ]
    }
  ]
}